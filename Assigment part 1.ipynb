{
 "cells": [
  {
   "cell_type": "code",
   "execution_count": 9,
   "id": "99949695",
   "metadata": {
    "scrolled": true
   },
   "outputs": [
    {
     "name": "stdout",
     "output_type": "stream",
     "text": [
      "* * * * * * * * * * * * * * * * * * * * * * * * * * * * * * * * * * * * * * * * * * * * * * * * * * * * * * * * * * * * * * * * * * * * * * * * * * * * * * * * * * * * * * * * * * * * * * * * * * * * * * * * * * * * * * * * * * * * * * * * * * * * * * * * * * * * * * * * * * * * * * * * * * * * * * * * * * * * * * * * * * * * * * * * * * * * * * * * * * * * * * * * * * * * * * * * * * * * * * @ @ @ @ @ @ @ @ @ @ @ @ @ @ @ @ @ @ @ @ @ @ @ @ @ @ @ @ @ @ @ @ @ @ @ @ @ @ @ @ @ @ @ @ @ @ @ @ @ @ @ @ @ @ @ @ @ @ @ @ @ @ @ @ @ @ @ @ @ @ @ @ @ @ @ @ @ @ @ @ @ @ @ @ @ @ @ @ @ @ @ @ @ @ @ @ @ @ @ @ @ @ @ @ @ @ @ @ @ @ @ @ @ @ @ @ @ @ @ @ @ @ @ @ @ @ @ @ @ @ @ @ @ @ @ @ @ @ @ @ @ @ @ @ @ @ @ @ @ @ @ @ @ @ @ @ @ @ @ @ @ @ @ @ @ @ @ @ @ @ @ @ @ @ @ @ @ @ @ @ @ @ @ @ @ @ @ @ @ @ @ @ @ @ @ @ @ @ "
     ]
    }
   ],
   "source": [
    "import requests\n",
    "from requests import get\n",
    "from bs4 import BeautifulSoup\n",
    "from time import time, sleep\n",
    "from random import randint\n",
    "import pandas as pd\n",
    "import re\n",
    "\n",
    "if __name__ == '__main__':\n",
    "    #list of list for storing data\n",
    "    url_list = []\n",
    "    list_url = []\n",
    "    product_title = []\n",
    "    product_price = []\n",
    "    product_rating = []\n",
    "    product_review = []\n",
    "    product_manufacturer = []\n",
    "    product_asin = []\n",
    "    product_url = []\n",
    "    new_asin = []\n",
    "    new_manufacturer = []\n",
    "    HEADERS = ({'User-Agent': 'Mozilla/5.0 (Windows NT 10.0; Win64; x64) AppleWebKit/537.36 (KHTML, like Gecko) Chrome/111.0.0.0 Safari/537.36','Accept-Language': 'en-US, en;q=0.5'})\n",
    "    base_url = 'https://amazon.in/'\n",
    "    for i in range(1,21):\n",
    "        url = 's?k=bags&page={}&crid=2M096C61O4MLT&qid=1679384692&sprefix=ba%2Caps%2C283&ref=sr_pg_{}'\n",
    "        new_url = url.format(i,i)\n",
    "        Url = base_url + new_url\n",
    "        list_url.append(Url)\n",
    "    for url in list_url:    \n",
    "        webpage = requests.get(url, headers=HEADERS)\n",
    "        soup = BeautifulSoup(webpage.content, \"lxml\")\n",
    "        sleep(randint(5,11))\n",
    "        product_url = soup.find_all('a', class_ = 'a-link-normal s-underline-text s-underline-link-text s-link-style a-text-normal',limit = 10)\n",
    "        for link in product_url:\n",
    "            url_list.append(link.get('href'))\n",
    "            print('*',end=' ')\n",
    "    for product in url_list:\n",
    "        main_link = base_url+product\n",
    "        new_webpage = requests.get(main_link, headers=HEADERS)\n",
    "        new_soup = BeautifulSoup(new_webpage.content, \"lxml\")\n",
    "        sleep(randint(5,11))\n",
    "        n= 3\n",
    "        j = 4\n",
    "        try:\n",
    "            title = new_soup.find('span', id = 'productTitle').get_text()\n",
    "            price = new_soup.find('span', class_ = 'a-price-whole').get_text()\n",
    "            ratingg = new_soup.find('span', class_ = 'a-icon-alt').get_text()\n",
    "            revieww = new_soup.find('span', id = 'acrCustomerReviewText').get_text()\n",
    "            item = new_soup.find('ul', class_= 'a-unordered-list a-nostyle a-vertical a-spacing-none detail-bullet-list')\n",
    "            manufacturer = item.select(\"li:nth-of-type(\"+str(n)+\")\")\n",
    "            asin = item.select(\"li:nth-of-type(\"+str(j)+\")\")\n",
    "        except AttributeError:\n",
    "            title = \"\"\n",
    "            price = \"\"\n",
    "            ratingg = \"\"\n",
    "            revieww = \"\"\n",
    "            url = \"\"\n",
    "            item = \"\"\n",
    "        product_title.append(title)\n",
    "        product_price.append(price)\n",
    "        product_rating.append(ratingg)\n",
    "        product_review.append(revieww)\n",
    "        for (a, b) in zip(manufacturer, asin):\n",
    "            product_manufacturer.append(a.get_text().replace('  ',''))\n",
    "            product_asin.append(b.get_text().replace('  ',''))\n",
    "            print('@',end= ' ') #for get to know program is running\n",
    "    for sub in product_asin:\n",
    "        new_asin.append(re.sub('[\\n,\\W]', '', sub))  #removing new line, space and special character\n",
    "    for subb in product_manufacturer:\n",
    "        new_manufacturer.append(re.sub('[\\n,\\W]', '', subb))     \n",
    "        \n",
    "    dict = {'name': product_title, 'price': product_price, 'rating':product_rating, 'review':product_review, 'url':url_list, 'Manufacturer': new_manufacturer, 'Asin': new_asin}  \n",
    "    df = pd.DataFrame(dict) \n",
    "    df.to_csv('Assignment1.csv')"
   ]
  },
  {
   "cell_type": "code",
   "execution_count": null,
   "id": "9576984f",
   "metadata": {},
   "outputs": [],
   "source": []
  },
  {
   "cell_type": "code",
   "execution_count": 8,
   "id": "67bd2857",
   "metadata": {},
   "outputs": [],
   "source": []
  },
  {
   "cell_type": "code",
   "execution_count": null,
   "id": "17927d89",
   "metadata": {},
   "outputs": [],
   "source": []
  }
 ],
 "metadata": {
  "kernelspec": {
   "display_name": "Python 3 (ipykernel)",
   "language": "python",
   "name": "python3"
  },
  "language_info": {
   "codemirror_mode": {
    "name": "ipython",
    "version": 3
   },
   "file_extension": ".py",
   "mimetype": "text/x-python",
   "name": "python",
   "nbconvert_exporter": "python",
   "pygments_lexer": "ipython3",
   "version": "3.9.12"
  }
 },
 "nbformat": 4,
 "nbformat_minor": 5
}
